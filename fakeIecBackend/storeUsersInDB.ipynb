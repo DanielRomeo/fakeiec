{
 "cells": [
  {
   "cell_type": "markdown",
   "metadata": {},
   "source": [
    "## Store Voters in Sqlite database\n",
    "We will store users in sqlite database, getting data from an excel spreadsheet"
   ]
  },
  {
   "cell_type": "markdown",
   "metadata": {},
   "source": [
    "First connect to the database and insert the ethnicity values in the database before anything else. "
   ]
  },
  {
   "cell_type": "code",
   "execution_count": 19,
   "metadata": {},
   "outputs": [],
   "source": [
    "# Store the ethnicities values before populating the database with users:\n",
    "import sqlite3\n",
    "\n",
    "db_path = 'db.sqlite3'\n",
    "\n",
    "queries = [\n",
    "    \"INSERT INTO voteapp_ethnicity (name) VALUES ('black');\",\n",
    "    \"INSERT INTO voteapp_ethnicity (name) VALUES ('white');\",\n",
    "    \"INSERT INTO voteapp_ethnicity (name) VALUES ('coloured');\",\n",
    "    \"INSERT INTO voteapp_ethnicity (name) VALUES ('indian');\"\n",
    "]\n",
    "conn = sqlite3.connect(db_path)\n",
    "cursor = conn.cursor()\n",
    "\n",
    "# Execute the SQL queries\n",
    "for query in queries:\n",
    "    cursor.execute(query)\n",
    "conn.commit()\n",
    "conn.close()\n"
   ]
  },
  {
   "cell_type": "markdown",
   "metadata": {},
   "source": [
    "Insert gender values"
   ]
  },
  {
   "cell_type": "code",
   "execution_count": null,
   "metadata": {},
   "outputs": [],
   "source": [
    "# Store the genders values before populating the database with users:\n",
    "import sqlite3\n",
    "\n",
    "db_path = 'db.sqlite3'\n",
    "\n",
    "queries = [\n",
    "    \"INSERT INTO voteapp_gender (name) VALUES ('male');\",\n",
    "    \"INSERT INTO voteapp_gender (name) VALUES ('female');\",\n",
    "]\n",
    "conn = sqlite3.connect(db_path)\n",
    "cursor = conn.cursor()\n",
    "\n",
    "# Execute the SQL queries\n",
    "for query in queries:\n",
    "    cursor.execute(query)\n",
    "conn.commit()\n",
    "conn.close()"
   ]
  },
  {
   "cell_type": "code",
   "execution_count": 20,
   "metadata": {},
   "outputs": [
    {
     "name": "stdout",
     "output_type": "stream",
     "text": [
      "Firstname: Nancy\n",
      "Lastname: Long\n",
      "ID Number: 1703277033901\n",
      "Ethnicity: white\n",
      "Province: Western Cape\n",
      "District: City of Cape Town Metropolitan\n",
      "National Vote: BOSA\n",
      "Provincial Vote: COPE\n",
      "District Vote: BOSA\n",
      "==============================\n",
      "Firstname: Lori\n",
      "Lastname: Bright\n",
      "ID Number: 7603210926186\n",
      "Ethnicity: indian\n",
      "Province: Limpopo\n",
      "District: Waterburg\n",
      "National Vote: MK\n",
      "Provincial Vote: ACT\n",
      "District Vote: EFF\n",
      "==============================\n"
     ]
    }
   ],
   "source": [
    "import pandas as pd\n",
    "import openpyxl\n",
    "from openpyxl import load_workbook\n",
    "\n",
    "class Voter(object):\n",
    "    def __init__(self, firstname, lastname, gender, idnumber, ethnicity, province_address,\n",
    "                 district_address, national_vote, provincial_vote, district_vote):\n",
    "        self.Firstname = firstname\n",
    "        self.Lastname = lastname\n",
    "        self.Gender = gender\n",
    "        self.Idnumber = idnumber\n",
    "        self.Ethnicity = ethnicity\n",
    "        self.Province_address = province_address\n",
    "        self.District_address = district_address\n",
    "        self.National_vote = national_vote\n",
    "        self.Provincial_vote = provincial_vote\n",
    "        self.District_vote = district_vote\n",
    "\n",
    "    @classmethod\n",
    "    def from_excel_row(cls, row):\n",
    "        \"\"\"\n",
    "            Creates a Voter object from a row of data in Excel.\n",
    "            Returns the voter object\n",
    "        \"\"\"\n",
    "        firstname = row[0]\n",
    "        lastname = row[1]\n",
    "        idnumber = row[2]\n",
    "        ethnicity = row[3]\n",
    "        province_address = row[4]\n",
    "        district_address = row[5]\n",
    "        national_vote = row[6]\n",
    "        provincial_vote = row[7]\n",
    "        district_vote = row[8]\n",
    "        return cls(firstname, lastname, idnumber, ethnicity, province_address,\n",
    "                   district_address, national_vote, provincial_vote, district_vote)\n",
    "\n",
    "    @classmethod\n",
    "    def load_from_excel(cls, file_path):\n",
    "        \"\"\"\n",
    "        Loads voter data from an Excel file.\n",
    "\n",
    "        Parameters:\n",
    "        - file_path (str): Path to the Excel file.\n",
    "        \"\"\"\n",
    "        voters = []\n",
    "        wb = load_workbook(filename= file_path)\n",
    "        ws = wb.active\n",
    "\n",
    "        for row in ws.iter_rows(min_row=1, values_only=True):\n",
    "            voter = cls.from_excel_row(row)\n",
    "            voters.append(voter)\n",
    "\n",
    "        return voters\n",
    "################################# end of class\n",
    "\n",
    "# # Example usage to load data from Excel file\n",
    "file_path = 'voter_data.xlsx'\n",
    "voters = Voter.load_from_excel(file_path)\n",
    "\n",
    "# print voter data:\n",
    "for voter in voters[1:3]: ## let it only print the top 2 items\n",
    "    print(f\"Firstname: {voter.Firstname}\")\n",
    "    print(f\"Lastname: {voter.Lastname}\")\n",
    "    print(f\"ID Number: {voter.Idnumber}\")\n",
    "    print(f\"Ethnicity: {voter.Ethnicity}\")\n",
    "    print(f\"Province: {voter.Province_address}\")\n",
    "    print(f\"District: {voter.District_address}\")\n",
    "    print(f\"National Vote: {voter.National_vote}\")\n",
    "    print(f\"Provincial Vote: {voter.Provincial_vote}\")\n",
    "    print(f\"District Vote: {voter.District_vote}\")\n",
    "    print(\"=\" * 30)  \n",
    "\n"
   ]
  },
  {
   "cell_type": "markdown",
   "metadata": {},
   "source": [
    "### Storing the voters in the SQLITE database \"mydatabase.sqlite\""
   ]
  },
  {
   "cell_type": "code",
   "execution_count": 21,
   "metadata": {},
   "outputs": [],
   "source": [
    "import sqlite3\n",
    "\n",
    "# Function to create a connection to the database:\n",
    "def create_connection(db_file = \"db.sqlite3\"):\n",
    "    conn = None\n",
    "    try:\n",
    "        conn = sqlite3.connect(db_file)\n",
    "        return conn\n",
    "    except sqlite3.Error as e:\n",
    "        print(e)\n",
    "    return conn\n",
    "\n",
    "# Get Ethnicity ID:\n",
    "def get_ethnicity_id(conn, ethnicity_name):\n",
    "    \"\"\"Retrieve ethnicity from table, given the ethnicity string \"\"\"\n",
    "    cur = conn.cursor()\n",
    "    cur.execute(\"SELECT id FROM voteapp_ethnicity WHERE name=?\", (ethnicity_name,))\n",
    "    row = cur.fetchone()\n",
    "    if row:\n",
    "        return row[0]\n",
    "    else:\n",
    "        return None\n",
    "    \n",
    "# Get or create the address:\n",
    "def get_or_create_address_id(conn, province, district):\n",
    "    \"\"\"\n",
    "    Retrieve the address ID from the Address table based on province and district.\n",
    "    If the address does not exist, create a new record and return the new ID.\n",
    "    \"\"\"\n",
    "    cur = conn.cursor()\n",
    "    cur.execute(\"SELECT id FROM voteapp_address WHERE province=? AND district=?\", (province, district))\n",
    "    row = cur.fetchone()\n",
    "    if row:\n",
    "        return row[0]\n",
    "    else:\n",
    "        cur.execute(\"INSERT INTO voteapp_address (province, district) VALUES (?, ?)\", (province, district))\n",
    "        conn.commit()\n",
    "        return cur.lastrowid\n",
    "\n",
    "def get_vote_id(conn, national, provincial, regional):\n",
    "    cur = conn.cursor()\n",
    "    cur.execute(\"SELECT id FROM voteapp_vote WHERE national=? AND provincial=? AND regional=?\", (national, provincial, regional))\n",
    "    row = cur.fetchone()\n",
    "    if row:\n",
    "        return row[0]\n",
    "    else:\n",
    "        cur.execute(\"INSERT INTO voteapp_vote (national, provincial, regional) VALUES (?, ?, ?)\", (national, provincial, regional))\n",
    "        conn.commit()\n",
    "        return cur.lastrowid\n",
    "\n",
    "\n",
    "def insert_voter(conn, voter):\n",
    "    \"\"\" Insert a voter into the Voter table. \"\"\"\n",
    "    ethnicity_id = get_ethnicity_id(conn, voter.Ethnicity)\n",
    "    address_id = get_or_create_address_id(conn, voter.Province_address, voter.District_address)\n",
    "    vote_id = get_vote_id(conn, voter.National_vote, voter.Provincial_vote, voter.District_vote)\n",
    "\n",
    "    sql = ''' INSERT INTO voteapp_voter(firstname, lastname, idnumber, ethnicity_id, address_id, vote_id)\n",
    "              VALUES(?, ?, ?, ?, ?, ?) '''\n",
    "    cur = conn.cursor()\n",
    "    cur.execute(sql, (voter.Firstname, voter.Lastname, voter.Idnumber, ethnicity_id, address_id, vote_id))\n",
    "    conn.commit()\n",
    "    return cur.lastrowid\n",
    "\n"
   ]
  },
  {
   "cell_type": "markdown",
   "metadata": {},
   "source": [
    "Execute the code"
   ]
  },
  {
   "cell_type": "code",
   "execution_count": 22,
   "metadata": {},
   "outputs": [
    {
     "name": "stdout",
     "output_type": "stream",
     "text": [
      "1\n",
      "4\n"
     ]
    }
   ],
   "source": [
    "# TEST CODE\n",
    "connection = create_connection()\n",
    "ethnicityId = get_ethnicity_id(connection, \"indian\")\n",
    "addressId = get_or_create_address_id(connection, \"Limpopo\", \"Vhembe\")\n",
    "print(addressId)\n",
    "print(ethnicityId)"
   ]
  },
  {
   "cell_type": "code",
   "execution_count": 23,
   "metadata": {},
   "outputs": [],
   "source": [
    "file_path = 'voter_data.xlsx'\n",
    "voters = Voter.load_from_excel(file_path)\n",
    "connection = create_connection()\n",
    "with connection:\n",
    "        for voter in voters[1:]:  \n",
    "            voter_id = insert_voter(connection, voter)"
   ]
  }
 ],
 "metadata": {
  "kernelspec": {
   "display_name": "Python 3",
   "language": "python",
   "name": "python3"
  },
  "language_info": {
   "codemirror_mode": {
    "name": "ipython",
    "version": 3
   },
   "file_extension": ".py",
   "mimetype": "text/x-python",
   "name": "python",
   "nbconvert_exporter": "python",
   "pygments_lexer": "ipython3",
   "version": "3.10.12"
  }
 },
 "nbformat": 4,
 "nbformat_minor": 2
}
